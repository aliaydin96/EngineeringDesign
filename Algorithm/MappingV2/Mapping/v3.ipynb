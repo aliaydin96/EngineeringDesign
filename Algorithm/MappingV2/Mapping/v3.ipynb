{
 "cells": [
  {
   "cell_type": "code",
   "execution_count": 1,
   "metadata": {},
   "outputs": [],
   "source": [
    "# Adding required library with required names\n",
    "import numpy as np\n",
    "from numpy import genfromtxt\n",
    "import matplotlib.pyplot as plt\n",
    "import matplotlib.image as mpimg\n",
    "import os.path\n",
    "import math"
   ]
  },
  {
   "cell_type": "code",
   "execution_count": 2,
   "metadata": {},
   "outputs": [],
   "source": [
    "# adding the cartesian and polar coordinate converter\n",
    "# these functions take or give 'radians'\n",
    "def cart2pol(x, y):\n",
    "    rho = np.sqrt(x**2 + y**2)\n",
    "    phi = np.arctan2(y, x)\n",
    "    return(rho, phi)\n",
    "\n",
    "def pol2cart(rho, phi):\n",
    "    x = rho * np.cos(phi)\n",
    "    y = rho * np.sin(phi)\n",
    "    return(x, y)"
   ]
  },
  {
   "cell_type": "code",
   "execution_count": 3,
   "metadata": {},
   "outputs": [],
   "source": [
    "def OverAll_Map(Scan_Coordinates,Self_Localization, Heading): \n",
    "    # Taking array of measurement data in shape of polar cooradinates \n",
    "    #Scan is and Self_Localization in mm, Theta and Heading in Degree\n",
    "    \n",
    "    Scan_x= Scan_Coordinates[0, :]\n",
    "    Scan_y= Scan_Coordinates[1, :]\n",
    "    # taking x and y coordinates\n",
    "    \n",
    "    \n",
    "    Self_x= Self_Position[0]* np.ones((1,len(Scan_x)))\n",
    "    Self_y= Self_Position[1]* np.ones((1,len(Scan_y)))\n",
    "    \n",
    "    Map_x=Scan_x+Self_x\n",
    "    Map_y=Scan_y+Self_y\n",
    "    # Adding Self_Position for mapping\n",
    "    \n",
    "    Map_Radius= np.zeros((1,len(Scan_x)))\n",
    "    Map_The= np.zeros((1,len(Scan_x)))\n",
    "\n",
    "    for i in range(len(Scan_x)):\n",
    "        Map_Radius[0][i], Map_The[0][i]= cart2pol(Map_x[0][i],Map_y[0][i])\n",
    "        # Converting polar coordinates\n",
    "    \n",
    "    \n",
    "    #the= np.linspace(1,2,1000)\n",
    "    #Map_Radius= np.interp(the, Map_The,Map_Radius)\n",
    "    \n",
    "    Heading = math.radians(Heading)\n",
    "    Map_Theta= Map_The+ Heading* np.ones((1,len(Map_The)))\n",
    "    #Map_Theta= the+ Heading* np.ones((1,len(the)))\n",
    "    \n",
    "    # Adding Heading angle to measurement angle\n",
    "    \n",
    "\n",
    "    print(np.size(Map_Radius))\n",
    "        \n",
    "    for i in range(np.size(Map_Radius)):\n",
    "        \n",
    "        # The only RED is 1 for the Radius for obstacle\n",
    "          \n",
    "        x,y=pol2cart(Map_Radius[0][i],Map_Theta[0][i])\n",
    "        #print(x)\n",
    "        #print(Map_Radius[0][i])\n",
    "        x=int(x)\n",
    "        y=int(y)\n",
    "        All_Map[x, y,0]=1\n",
    "        All_Map[x, y,1]=0\n",
    "        All_Map[x, y,2]=0\n",
    "        \n",
    "        for j in range(int(Map_Radius[0][i])):\n",
    "            \n",
    "            # Until the radius, all of data are 1 for free space\n",
    "            x, y=pol2cart(j,Map_Theta[0][i])\n",
    "            x=int(x)\n",
    "            y=int(y)\n",
    "            All_Map[x, y,0]=1\n",
    "            All_Map[x, y,1]=1\n",
    "            All_Map[x, y,2]=1\n",
    "              "
   ]
  },
  {
   "cell_type": "code",
   "execution_count": 4,
   "metadata": {},
   "outputs": [],
   "source": [
    "# Defining Global variables\n",
    "Map_Size=2500 # Each pixels has 1mm^2 area for the over all map\n",
    "All_Map=np.zeros((Map_Size,Map_Size,3)) \n",
    "     #It is the map as 3 dimension like RGB\n",
    "     # RGB= 111 means that scanned and defined as blank\n",
    "     # RGB=100 means that scanned and defined as obstacle\n",
    "     # RGB= 000 means that not scanned\n",
    "Mapping_Number=1\n",
    "\n"
   ]
  },
  {
   "cell_type": "code",
   "execution_count": 5,
   "metadata": {},
   "outputs": [
    {
     "name": "stdout",
     "output_type": "stream",
     "text": [
      "70\n",
      "70\n",
      "70\n",
      "70\n"
     ]
    }
   ],
   "source": [
    "while Mapping_Number < 5:\n",
    "    Coordinate_Meas= 'Coordinate_Meas_'+ str(Mapping_Number)\n",
    "    Self_Localization='Self_Localization_Meas_'+ str(Mapping_Number)\n",
    "    Heading_Meas = 'Heading_Meas_' + str (Mapping_Number)\n",
    "\n",
    "    if os.path.isfile(Coordinate_Meas):\n",
    "        #control the scanning data is there while\n",
    "        my_scan = genfromtxt(Coordinate_Meas, delimiter=',')\n",
    "        Self_Position = genfromtxt(Self_Localization, delimiter=',')\n",
    "        Heading = genfromtxt(Heading_Meas, delimiter=',')\n",
    "\n",
    "        OverAll_Map(my_scan,Self_Position, Heading)\n",
    "        #print(Mapping_Number)\n",
    "        Mapping_Number= Mapping_Number+1\n",
    "        \n",
    "    else :\n",
    "        continue\n",
    "       \n",
    "\n",
    "    \n",
    "    \n",
    "    \n",
    "    \n"
   ]
  },
  {
   "cell_type": "code",
   "execution_count": 6,
   "metadata": {},
   "outputs": [
    {
     "data": {
      "text/plain": [
       "<matplotlib.image.AxesImage at 0x1fb0f6866d8>"
      ]
     },
     "execution_count": 6,
     "metadata": {},
     "output_type": "execute_result"
    },
    {
     "data": {
      "image/png": "[encoded data removed]",
      "text/plain": [
       "<Figure size 432x288 with 1 Axes>"
      ]
     },
     "metadata": {
      "needs_background": "light"
     },
     "output_type": "display_data"
    }
   ],
   "source": [
    "plt.imshow(All_Map)"
   ]
  }
 ],
 "metadata": {
  "kernelspec": {
   "display_name": "Python 3",
   "language": "python",
   "name": "python3"
  },
  "language_info": {
   "codemirror_mode": {
    "name": "ipython",
    "version": 3
   },
   "file_extension": ".py",
   "mimetype": "text/x-python",
   "name": "python",
   "nbconvert_exporter": "python",
   "pygments_lexer": "ipython3",
   "version": "3.7.1"
  }
 },
 "nbformat": 4,
 "nbformat_minor": 2
}
